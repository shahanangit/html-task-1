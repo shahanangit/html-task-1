{
  "nbformat": 4,
  "nbformat_minor": 0,
  "metadata": {
    "colab": {
      "provenance": [],
      "authorship_tag": "ABX9TyPpNObJFtexZfMwpjnuM0Fc",
      "include_colab_link": true
    },
    "kernelspec": {
      "name": "python3",
      "display_name": "Python 3"
    },
    "language_info": {
      "name": "python"
    }
  },
  "cells": [
    {
      "cell_type": "markdown",
      "metadata": {
        "id": "view-in-github",
        "colab_type": "text"
      },
      "source": [
        "<a href=\"https://colab.research.google.com/github/shahanangit/html-task-1/blob/main/Week1.ipynb\" target=\"_parent\"><img src=\"https://colab.research.google.com/assets/colab-badge.svg\" alt=\"Open In Colab\"/></a>"
      ]
    },
    {
      "cell_type": "code",
      "execution_count": 18,
      "metadata": {
        "id": "-mofS8xgMpGA"
      },
      "outputs": [],
      "source": [
        "import hashlib"
      ]
    },
    {
      "cell_type": "code",
      "source": [],
      "metadata": {
        "id": "GOjmZ_IyOKK9"
      },
      "execution_count": null,
      "outputs": []
    },
    {
      "cell_type": "markdown",
      "source": [],
      "metadata": {
        "id": "vtdtVrHVM9Cv"
      }
    },
    {
      "cell_type": "markdown",
      "source": [
        "**get data seperated with - sign**\n"
      ],
      "metadata": {
        "id": "a3P81Tg0M-en"
      }
    },
    {
      "cell_type": "code",
      "source": [
        "chain = []\n",
        "# transaction_list=[1,2,3,4]\n",
        "#String: 1-2-3-4\n",
        "def get_hash(transaction_list):\n",
        "  return \"-\". join(transaction_list)\n",
        "\n",
        "# Create a hash value of my data\n",
        "def get_hash(data):\n",
        "  return hashlib.sha256(data.encode()).hexdigest()\n",
        "\n",
        "\n",
        "  #adding a block\n",
        "  def add_block(chain, data):\n",
        "    chain.append(data)"
      ],
      "metadata": {
        "id": "ScrAjLtKNQq2"
      },
      "execution_count": 15,
      "outputs": []
    },
    {
      "cell_type": "code",
      "source": [
        "message = [\"Ted sends 2 coins to Phil\", \"Mary sends 1.5 coins to Phile\", \"Phile sends 1.5 coins to Joshua\"\n",
        "            \"Nina sends 4.5 coins to Jan\", \"John sends 2.4 coins to Hira\"]"
      ],
      "metadata": {
        "id": "1k34SJ8POLzH"
      },
      "execution_count": 16,
      "outputs": []
    },
    {
      "cell_type": "code",
      "source": [
        "for i in range(1, len(message)):\n",
        "  add_block(chain, message[i])\n",
        "  data1=get_data(chain)\n",
        "  transcation1=get_hash(data1)\n",
        "  print(data1)\n",
        "  print(transcation1)"
      ],
      "metadata": {
        "colab": {
          "base_uri": "https://localhost:8080/",
          "height": 211
        },
        "collapsed": true,
        "id": "s3O3FbmvSvXB",
        "outputId": "3e0e3f0c-def7-4319-8584-97768da6f80d"
      },
      "execution_count": 19,
      "outputs": [
        {
          "output_type": "error",
          "ename": "NameError",
          "evalue": "name 'add_block' is not defined",
          "traceback": [
            "\u001b[0;31m---------------------------------------------------------------------------\u001b[0m",
            "\u001b[0;31mNameError\u001b[0m                                 Traceback (most recent call last)",
            "\u001b[0;32m/tmp/ipython-input-19-1067778088.py\u001b[0m in \u001b[0;36m<cell line: 0>\u001b[0;34m()\u001b[0m\n\u001b[1;32m      1\u001b[0m \u001b[0;32mfor\u001b[0m \u001b[0mi\u001b[0m \u001b[0;32min\u001b[0m \u001b[0mrange\u001b[0m\u001b[0;34m(\u001b[0m\u001b[0;36m1\u001b[0m\u001b[0;34m,\u001b[0m \u001b[0mlen\u001b[0m\u001b[0;34m(\u001b[0m\u001b[0mmessage\u001b[0m\u001b[0;34m)\u001b[0m\u001b[0;34m)\u001b[0m\u001b[0;34m:\u001b[0m\u001b[0;34m\u001b[0m\u001b[0;34m\u001b[0m\u001b[0m\n\u001b[0;32m----> 2\u001b[0;31m   \u001b[0madd_block\u001b[0m\u001b[0;34m(\u001b[0m\u001b[0mchain\u001b[0m\u001b[0;34m,\u001b[0m \u001b[0mmessage\u001b[0m\u001b[0;34m[\u001b[0m\u001b[0mi\u001b[0m\u001b[0;34m]\u001b[0m\u001b[0;34m)\u001b[0m\u001b[0;34m\u001b[0m\u001b[0;34m\u001b[0m\u001b[0m\n\u001b[0m\u001b[1;32m      3\u001b[0m   \u001b[0mdata1\u001b[0m\u001b[0;34m=\u001b[0m\u001b[0mget_data\u001b[0m\u001b[0;34m(\u001b[0m\u001b[0mchain\u001b[0m\u001b[0;34m)\u001b[0m\u001b[0;34m\u001b[0m\u001b[0;34m\u001b[0m\u001b[0m\n\u001b[1;32m      4\u001b[0m   \u001b[0mtranscation1\u001b[0m\u001b[0;34m=\u001b[0m\u001b[0mget_hash\u001b[0m\u001b[0;34m(\u001b[0m\u001b[0mdata1\u001b[0m\u001b[0;34m)\u001b[0m\u001b[0;34m\u001b[0m\u001b[0;34m\u001b[0m\u001b[0m\n\u001b[1;32m      5\u001b[0m   \u001b[0mprint\u001b[0m\u001b[0;34m(\u001b[0m\u001b[0mdata1\u001b[0m\u001b[0;34m)\u001b[0m\u001b[0;34m\u001b[0m\u001b[0;34m\u001b[0m\u001b[0m\n",
            "\u001b[0;31mNameError\u001b[0m: name 'add_block' is not defined"
          ]
        }
      ]
    },
    {
      "cell_type": "code",
      "source": [
        "add_block(chain,\"\")"
      ],
      "metadata": {
        "id": "vA8Am51dSu6p"
      },
      "execution_count": null,
      "outputs": []
    }
  ]
}